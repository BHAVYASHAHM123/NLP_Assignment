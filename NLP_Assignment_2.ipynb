{
  "nbformat": 4,
  "nbformat_minor": 0,
  "metadata": {
    "colab": {
      "provenance": [],
      "authorship_tag": "ABX9TyP4dpjh2Sl3IHByA6TrhERl",
      "include_colab_link": true
    },
    "kernelspec": {
      "name": "python3",
      "display_name": "Python 3"
    },
    "language_info": {
      "name": "python"
    }
  },
  "cells": [
    {
      "cell_type": "markdown",
      "metadata": {
        "id": "view-in-github",
        "colab_type": "text"
      },
      "source": [
        "<a href=\"https://colab.research.google.com/github/BHAVYASHAHM123/Advance_Programming_Assignment_1/blob/main/NLP_Assignment_2.ipynb\" target=\"_parent\"><img src=\"https://colab.research.google.com/assets/colab-badge.svg\" alt=\"Open In Colab\"/></a>"
      ]
    },
    {
      "cell_type": "markdown",
      "source": [
        "Q1) 1. What are Corpora?\n",
        "\n",
        "Ans) Collection of text or audio of dataset"
      ],
      "metadata": {
        "id": "Sqh-40_rQpfA"
      }
    },
    {
      "cell_type": "markdown",
      "source": [
        "Q2). What are Tokens?\n",
        "\n",
        "Ans) Breaking the words into single words in the form of list."
      ],
      "metadata": {
        "id": "-MVlTmaDQpqg"
      }
    },
    {
      "cell_type": "markdown",
      "source": [
        "Q3). What are Unigrams, Bigrams, Trigrams?\n",
        "\n",
        "Ans) A model that simply relies on how often a word occurs without looking at previous words is called unigram. If a model considers only the previous word to predict the current word, then it's called bigram. If two previous words are considered, then it's a trigram model."
      ],
      "metadata": {
        "id": "gON68z0NQptH"
      }
    },
    {
      "cell_type": "markdown",
      "source": [
        "Q3). What are Unigrams, Bigrams, Trigrams?\n",
        "\n",
        "Ans) N-gram models are useful in many text analytics applications where sequences of words are relevant, such as in sentiment analysis, text classification, and text generation."
      ],
      "metadata": {
        "id": "0d-g2XMUQpvg"
      }
    },
    {
      "cell_type": "markdown",
      "source": [
        "Q5). Explain Lemmatization\n",
        "\n",
        "Ans) Lemmatization is used to bring the words to its meaning root word.\n",
        "\n",
        "eg : Playing, Played -> play-(root_word)"
      ],
      "metadata": {
        "id": "OPd3UWrfQpx5"
      }
    },
    {
      "cell_type": "markdown",
      "source": [
        "Q6). Explain Stemming\n",
        "\n",
        "Ans) Stemming is used to bring the words to its root word . Sometime it may not be meaningfull root word."
      ],
      "metadata": {
        "id": "HhkY6Kg8Qp1X"
      }
    },
    {
      "cell_type": "markdown",
      "source": [
        "Q7). Explain Part-of-speech (POS) tagging\n",
        "\n",
        "Ans) the process of marking up a word in a text (corpus) as corresponding to a particular part of speech, based on both its definition and its context"
      ],
      "metadata": {
        "id": "qBoAJ9BoTKsU"
      }
    },
    {
      "cell_type": "markdown",
      "source": [
        "Q10). Explain Named Entity Recognition\n",
        "\n",
        "Ans) Named Entity Recognition is used to identify the name, location,etc. from the corpus"
      ],
      "metadata": {
        "id": "rQ-daq47TL7E"
      }
    },
    {
      "cell_type": "markdown",
      "source": [
        "Q9) Explain Noun Phrase (NP) chunking\n",
        "\n",
        "Ans)  process of extracting phrases from unstructured text"
      ],
      "metadata": {
        "id": "_Pd2pHTZTLWd"
      }
    },
    {
      "cell_type": "code",
      "source": [],
      "metadata": {
        "id": "6UsN4wBuT1FF"
      },
      "execution_count": null,
      "outputs": []
    }
  ]
}