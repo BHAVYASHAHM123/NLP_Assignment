{
  "nbformat": 4,
  "nbformat_minor": 0,
  "metadata": {
    "colab": {
      "provenance": [],
      "authorship_tag": "ABX9TyP262kplKDzrEVOtZuuGFX7"
    },
    "kernelspec": {
      "name": "python3",
      "display_name": "Python 3"
    },
    "language_info": {
      "name": "python"
    }
  },
  "cells": [
    {
      "cell_type": "markdown",
      "source": [
        "Q1). Explain One-Hot Encoding\n",
        "\n",
        "Ans) Convert the categorical data to machine redabel numerical data to improve prediction accuracy"
      ],
      "metadata": {
        "id": "Sqh-40_rQpfA"
      }
    },
    {
      "cell_type": "markdown",
      "source": [
        "Q2). What are Tokens?\n",
        "\n",
        "Ans) Breaking the words into single words in the form of list."
      ],
      "metadata": {
        "id": "-MVlTmaDQpqg"
      }
    },
    {
      "cell_type": "markdown",
      "source": [
        "Q2)Explain Bag of Words\n",
        "\n",
        "Ans) The bag-of-words model is a simplifying representation used in natural language processing and information retrieval."
      ],
      "metadata": {
        "id": "gON68z0NQptH"
      }
    },
    {
      "cell_type": "markdown",
      "source": [
        "Q4) 4. Explain TF-IDF\n",
        "\n",
        "Ans) Term Frequency Inverse Document Frequency is used to find the frequency of the word which is present in the corpus irrelevent to its waitage is high or low. also it is used to find the meaning of the sentence"
      ],
      "metadata": {
        "id": "0d-g2XMUQpvg"
      }
    },
    {
      "cell_type": "markdown",
      "source": [
        "Q5) what is OOV\n",
        "\n",
        "Ans) OOv - Out Of Vocabulary means this are not the part of lexicon found in NLP.This is generally consist in the audio-recognition."
      ],
      "metadata": {
        "id": "OPd3UWrfQpx5"
      }
    },
    {
      "cell_type": "markdown",
      "source": [
        "Q6). Explain Word embeding\n",
        "\n",
        "Ans)words that are close in meaning are grouped near to one another in vector space."
      ],
      "metadata": {
        "id": "HhkY6Kg8Qp1X"
      }
    },
    {
      "cell_type": "markdown",
      "source": [
        "Q7). Explain skipgram\n",
        "\n",
        "Ans) one of the unsupervised learning techniques used to find the most related words for a given word"
      ],
      "metadata": {
        "id": "qBoAJ9BoTKsU"
      }
    }
  ]
}